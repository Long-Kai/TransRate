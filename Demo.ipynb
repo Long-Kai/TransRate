{
 "cells": [
  {
   "cell_type": "code",
   "execution_count": 3,
   "metadata": {},
   "outputs": [
    {
     "name": "stdout",
     "output_type": "stream",
     "text": [
      "Source Selection. Network: ResNet-18\n",
      "Target: CIFAR100\n",
      "Measure  :    NCE,   LEEP,    LFC,   h-Sc,  LogMe,    TrR\n",
      "Pearson R: 0.3799, 0.2880, 0.5330, 0.5074, 0.4949, 0.7260\n",
      "K Tau    : 0.3091, 0.0909, 0.6364, 0.7091, 0.7091, 0.8182\n",
      "W Tau    : 0.5680, 0.3692, 0.8141, 0.8134, 0.8134, 0.9055\n"
     ]
    }
   ],
   "source": [
    "from source_selection import source_selection\n",
    "from layer_selection import layer_selection\n",
    "from model_selection import model_selection\n",
    "from extra_result_model_selection import model_selection as ex_model_selection\n",
    "\n",
    "source_selection(1)"
   ]
  },
  {
   "cell_type": "code",
   "execution_count": 4,
   "metadata": {},
   "outputs": [
    {
     "name": "stdout",
     "output_type": "stream",
     "text": [
      "Source Selection. Network: ResNet-18\n",
      "Target: Caltech-101\n",
      "Measure  :    NCE,   LEEP,    LFC,   h-Sc,  LogMe,    TrR\n",
      "Pearson R: 0.2674, 0.5258, 0.5827, 0.9059, 0.8526, 0.8964\n",
      "K Tau    : 0.1111, 0.2444, 0.4667, 0.8667, 0.8667, 0.8667\n",
      "W Tau    : 0.3578, 0.4457, 0.4801, 0.8381, 0.8381, 0.8381\n"
     ]
    }
   ],
   "source": [
    "source_selection(2)"
   ]
  },
  {
   "cell_type": "code",
   "execution_count": 5,
   "metadata": {
    "scrolled": true
   },
   "outputs": [
    {
     "name": "stdout",
     "output_type": "stream",
     "text": [
      "Source Selection. Network: ResNet-18\n",
      "Target: Caltech-256\n",
      "Measure  :    NCE,   LEEP,    LFC,   h-Sc,  LogMe,    TrR\n",
      "Pearson R: 0.3737, 0.5657, 0.5549, 0.9080, 0.8813, 0.8718\n",
      "K Tau    : 0.2000, 0.3333, 0.3333, 0.8667, 0.8667, 0.8222\n",
      "W Tau    : 0.4953, 0.5956, 0.3415, 0.8424, 0.8424, 0.9143\n"
     ]
    }
   ],
   "source": [
    "source_selection(3)"
   ]
  },
  {
   "cell_type": "code",
   "execution_count": 6,
   "metadata": {},
   "outputs": [
    {
     "name": "stdout",
     "output_type": "stream",
     "text": [
      "Source Selection. Network: ResNet-18\n",
      "Target: SUN397\n",
      "Measure  :    NCE,   LEEP,    LFC,   h-Sc,  LogMe,    TrR\n",
      "Pearson R: 0.1534, 0.4424, 0.3695, 0.9170, 0.9057, 0.7221\n",
      "K Tau    : 0.0222, 0.2889, 0.2000, 0.7333, 0.7191, 0.5111\n",
      "W Tau    : 0.3315, 0.5159, 0.1194, 0.5928, 0.5857, 0.6424\n"
     ]
    }
   ],
   "source": [
    "source_selection(4)"
   ]
  },
  {
   "cell_type": "code",
   "execution_count": 7,
   "metadata": {},
   "outputs": [
    {
     "name": "stdout",
     "output_type": "stream",
     "text": [
      "Layer Selection. Target: CIFAR-100\n",
      "Source: ImageNet. Network: ResNet-18\n",
      "Measure  :    LFC,   h-Sc,  LogMe,    TrR\n",
      "Pearson R: 0.2596, 0.9877, 0.9900, 0.9867\n",
      "K Tau    : 0.0000, 1.0000, 1.0000, 1.0000\n",
      "W Tau    : 0.0000, 1.0000, 1.0000, 1.0000\n"
     ]
    }
   ],
   "source": [
    "layer_selection(1)"
   ]
  },
  {
   "cell_type": "code",
   "execution_count": 8,
   "metadata": {},
   "outputs": [
    {
     "name": "stdout",
     "output_type": "stream",
     "text": [
      "Layer Selection. Target: CIFAR-100\n",
      "Source: Caltech-101. Network: ResNet-18\n",
      "Measure  :    LFC,   h-Sc,  LogMe,    TrR\n",
      "Pearson R: 0.9312, 0.9017, 0.8575, 0.9872\n",
      "K Tau    : 1.0000, 0.6667, 0.6667, 1.0000\n",
      "W Tau    : 1.0000, 0.5200, 0.5200, 1.0000\n"
     ]
    }
   ],
   "source": [
    "layer_selection(2)"
   ]
  },
  {
   "cell_type": "code",
   "execution_count": 9,
   "metadata": {},
   "outputs": [
    {
     "name": "stdout",
     "output_type": "stream",
     "text": [
      "Layer Selection. Target: CIFAR-100\n",
      "Source: Caltech-256. Network: ResNet-18\n",
      "Measure  :    LFC,   h-Sc,  LogMe,    TrR\n",
      "Pearson R: 0.8395, 0.1644, -0.4216, 0.9761\n",
      "K Tau    : 0.6667, -0.3333, -0.3333, 1.0000\n",
      "W Tau    : 0.8133, -0.2933, -0.2933, 1.0000\n"
     ]
    }
   ],
   "source": [
    "layer_selection(3)"
   ]
  },
  {
   "cell_type": "code",
   "execution_count": 10,
   "metadata": {},
   "outputs": [
    {
     "name": "stdout",
     "output_type": "stream",
     "text": [
      "Layer Selection. Target: CIFAR-100\n",
      "Source: SUN397. Network: ResNet-18\n",
      "Measure  :    LFC,   h-Sc,  LogMe,    TrR\n",
      "Pearson R: 0.7652, 0.6101, 0.0427, 0.9761\n",
      "K Tau    : 0.6667, 0.6667, 0.0000, 1.0000\n",
      "W Tau    : 0.8133, 0.5200, -0.0667, 1.0000\n"
     ]
    }
   ],
   "source": [
    "layer_selection(4)"
   ]
  },
  {
   "cell_type": "code",
   "execution_count": 11,
   "metadata": {},
   "outputs": [
    {
     "name": "stdout",
     "output_type": "stream",
     "text": [
      "Layer Selection. Target: CIFAR-100\n",
      "Source: SVHN. Network: ResNet-20\n",
      "Measure  :    LFC,   h-Sc,  LogMe,    TrR\n",
      "Pearson R: -0.1872, -0.5307, -0.3374, 0.9770\n",
      "K Tau    : -0.4140, -0.2000, -0.0667, 0.8667\n",
      "W Tau    : -0.5190, -0.2993, -0.2340, 0.9265\n"
     ]
    }
   ],
   "source": [
    "layer_selection(5)"
   ]
  },
  {
   "cell_type": "code",
   "execution_count": 12,
   "metadata": {},
   "outputs": [
    {
     "name": "stdout",
     "output_type": "stream",
     "text": [
      "Layer Selection. Target: CIFAR-100\n",
      "Source: CIFAR-10. Network: ResNet-20\n",
      "Measure  :    LFC,   h-Sc,  LogMe,    TrR\n",
      "Pearson R: 0.5722, 0.6448, 0.6549, 0.6311\n",
      "K Tau    : 0.4667, 0.2000, 0.2000, 0.4667\n",
      "W Tau    : 0.4041, 0.3673, 0.3673, 0.5224\n"
     ]
    }
   ],
   "source": [
    "layer_selection(6)"
   ]
  },
  {
   "cell_type": "code",
   "execution_count": 13,
   "metadata": {},
   "outputs": [
    {
     "name": "stdout",
     "output_type": "stream",
     "text": [
      "Layer Selection. Target: CIFAR-100\n",
      "Source: ImageNet. Network: ResNet-34\n",
      "Measure  :    LFC,   h-Sc,  LogMe,    TrR\n",
      "Pearson R: 0.6999, 0.9357, 0.9368, 0.9549\n",
      "K Tau    : 0.3333, 0.9444, 0.9444, 0.9444\n",
      "W Tau    : 0.4834, 0.8674, 0.8674, 0.8674\n"
     ]
    }
   ],
   "source": [
    "layer_selection(7)"
   ]
  },
  {
   "cell_type": "code",
   "execution_count": 14,
   "metadata": {},
   "outputs": [
    {
     "name": "stdout",
     "output_type": "stream",
     "text": [
      "Model Selection. Source: ImageNet\n",
      "Target: CIFAR100\n",
      "Measure  :    NCE,   LEEP,    LFC,   h-Sc,  LogMe,    TrR\n",
      "Pearson R: 0.9653, 0.9696, 0.0662, 0.3800, 0.5675, 0.8055\n",
      "K Tau    : 0.8095, 0.8095, -0.0476, 0.3333, 0.5238, 0.9048\n",
      "W Tau    : 0.7322, 0.8650, -0.0680, 0.5041, 0.6186, 0.9421\n"
     ]
    }
   ],
   "source": [
    "model_selection(1)"
   ]
  },
  {
   "cell_type": "code",
   "execution_count": 15,
   "metadata": {},
   "outputs": [
    {
     "name": "stdout",
     "output_type": "stream",
     "text": [
      "Model Selection. Source: ImageNet\n",
      "Target: Caltech-101\n",
      "Measure  :    NCE,   LEEP,    LFC,   h-Sc,  LogMe,    TrR\n",
      "Pearson R: 0.9779, 0.9748, 0.5585, 0.1239, 0.7895, 0.9649\n",
      "K Tau    : 0.8095, 0.8095, 0.3333, 0.2381, 0.8095, 1.0000\n",
      "W Tau    : 0.7322, 0.7322, 0.2158, 0.4345, 0.8939, 1.0000\n"
     ]
    }
   ],
   "source": [
    "model_selection(2)"
   ]
  },
  {
   "cell_type": "code",
   "execution_count": 16,
   "metadata": {},
   "outputs": [
    {
     "name": "stdout",
     "output_type": "stream",
     "text": [
      "Model Selection. Source: ImageNet\n",
      "Target: Caltech-256\n",
      "Measure  :    NCE,   LEEP,    LFC,   h-Sc,  LogMe,    TrR\n",
      "Pearson R: 0.9860, 0.9851, 0.5477, 0.4262, 0.7000, 0.9626\n",
      "K Tau    : 0.8095, 0.8095, 0.4286, 0.4286, 0.7143, 1.0000\n",
      "W Tau    : 0.7322, 0.7322, 0.3133, 0.5937, 0.7868, 1.0000\n"
     ]
    }
   ],
   "source": [
    "model_selection(3)"
   ]
  },
  {
   "cell_type": "code",
   "execution_count": 17,
   "metadata": {},
   "outputs": [
    {
     "name": "stdout",
     "output_type": "stream",
     "text": [
      "Model Selection. Source: ImageNet\n",
      "Target: SUN397\n",
      "Measure  :    NCE,   LEEP,    LFC,   h-Sc,  LogMe,    TrR\n",
      "Pearson R: 0.9612, 0.9638, 0.5856, 0.3116, 0.7725, 0.9610\n",
      "K Tau    : 0.7143, 0.8095, 0.5238, 0.4286, 0.7143, 0.9048\n",
      "W Tau    : 0.5983, 0.6786, 0.4633, 0.6616, 0.8168, 0.8929\n"
     ]
    }
   ],
   "source": [
    "model_selection(4)"
   ]
  },
  {
   "cell_type": "code",
   "execution_count": 18,
   "metadata": {},
   "outputs": [
    {
     "name": "stdout",
     "output_type": "stream",
     "text": [
      "Model Selection with more networks. Source: ImageNet\n",
      "Target: CIFAR100\n",
      "Measure  :    NCE,   LEEP,    LFC,   h-Sc,  LogMe,    TrR\n",
      "Pearson R: 0.7937, 0.8504, -0.2160, 0.5016, 0.4965, 0.8779\n",
      "K Tau    : 0.7436, 0.7179, -0.0256, 0.4872, 0.4103, 0.9231\n",
      "W Tau    : 0.8315, 0.8485, -0.0126, 0.6058, 0.5130, 0.8498\n"
     ]
    }
   ],
   "source": [
    "ex_model_selection(1)"
   ]
  },
  {
   "cell_type": "code",
   "execution_count": 19,
   "metadata": {},
   "outputs": [
    {
     "name": "stdout",
     "output_type": "stream",
     "text": [
      "Model Selection with more networks. Source: ImageNet\n",
      "Target: Caltech-101\n",
      "Measure  :    NCE,   LEEP,    LFC,   h-Sc,  LogMe,    TrR\n",
      "Pearson R: 0.7954, 0.8445, -0.1486, 0.3111, 0.5336, 0.6391\n",
      "K Tau    : 0.6410, 0.6154, -0.1026, 0.5385, 0.6923, 0.7692\n",
      "W Tau    : 0.6358, 0.5380, -0.3313, 0.7665, 0.8214, 0.8511\n"
     ]
    }
   ],
   "source": [
    "ex_model_selection(2)"
   ]
  },
  {
   "cell_type": "code",
   "execution_count": 20,
   "metadata": {},
   "outputs": [
    {
     "name": "stdout",
     "output_type": "stream",
     "text": [
      "Model Selection with more networks. Source: ImageNet\n",
      "Target: Caltech-256\n",
      "Measure  :    NCE,   LEEP,    LFC,   h-Sc,  LogMe,    TrR\n",
      "Pearson R: 0.9339, 0.9198, 0.3244, 0.6124, 0.6222, 0.8099\n",
      "K Tau    : 0.7949, 0.7179, 0.1538, 0.7179, 0.7949, 0.8974\n",
      "W Tau    : 0.6922, 0.6253, -0.0587, 0.8668, 0.8673, 0.8971\n"
     ]
    }
   ],
   "source": [
    "ex_model_selection(3)"
   ]
  },
  {
   "cell_type": "code",
   "execution_count": 21,
   "metadata": {},
   "outputs": [
    {
     "name": "stdout",
     "output_type": "stream",
     "text": [
      "Model Selection with more networks. Source: ImageNet\n",
      "Target: SUN397\n",
      "Measure  :    NCE,   LEEP,    LFC,   h-Sc,  LogMe,    TrR\n",
      "Pearson R: 0.9513, 0.9166, 0.3982, 0.5834, 0.7059, 0.8380\n",
      "K Tau    : 0.7692, 0.7692, 0.3077, 0.6667, 0.7692, 0.8462\n",
      "W Tau    : 0.7332, 0.7368, 0.1686, 0.7627, 0.7577, 0.7998\n"
     ]
    }
   ],
   "source": [
    "ex_model_selection(4)"
   ]
  },
  {
   "cell_type": "code",
   "execution_count": null,
   "metadata": {},
   "outputs": [],
   "source": []
  }
 ],
 "metadata": {
  "kernelspec": {
   "display_name": "Python 3 (ipykernel)",
   "language": "python",
   "name": "python3"
  },
  "language_info": {
   "codemirror_mode": {
    "name": "ipython",
    "version": 3
   },
   "file_extension": ".py",
   "mimetype": "text/x-python",
   "name": "python",
   "nbconvert_exporter": "python",
   "pygments_lexer": "ipython3",
   "version": "3.8.5"
  }
 },
 "nbformat": 4,
 "nbformat_minor": 1
}